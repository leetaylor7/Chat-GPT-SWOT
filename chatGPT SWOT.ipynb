{
 "cells": [
  {
   "cell_type": "code",
   "execution_count": null,
   "metadata": {},
   "outputs": [],
   "source": [
    "# Importing all dependencies\n",
    "import os\n",
    "from openai import OpenAI\n",
    "import pandas as pd"
   ]
  },
  {
   "cell_type": "code",
   "execution_count": null,
   "metadata": {},
   "outputs": [],
   "source": [
    "# Insert API Credentials\n",
    "OpenAI.organization = <Insert Organization>\n",
    "client_api = OpenAI(api_key=<Insert API Key>)"
   ]
  },
  {
   "cell_type": "code",
   "execution_count": null,
   "metadata": {},
   "outputs": [],
   "source": [
    "# Function to run the company SWOT and description\n",
    "def openai_swot(company_name):\n",
    "    client = client_api\n",
    "    GPT_MODEL = 'gpt-4-1106-preview' # do any models in the GPT 4 launch\n",
    "    \n",
    "    # This grabs the SWOT\n",
    "    messages = [\n",
    "        {\"role\": \"system\", \"content\": \"You are a financial analyst skilled at developing a SWOT analysis without any fluff\"},\n",
    "        {\"role\": \"user\", \"content\": f'Create a SWOT analysis for {company_name}, bulleted list'}\n",
    "    ]\n",
    "    \n",
    "    response = client.chat.completions.create(\n",
    "    model=GPT_model\n",
    "    messages=messages\n",
    "    temperature=0\n",
    "    )\n",
    "    \n",
    "    # this parses the text for the SWOT\n",
    "    response_message_swot = response.choices[0].message.content\n",
    "    \n",
    "    # This grabs the company description\n",
    "        messages = [\n",
    "        {\"role\": \"system\", \"content\": \"You are a financial analyst skilled at providing a company summary without any fluff\"},\n",
    "        {\"role\": \"user\", \"content\": f'Create a summary description for {company_name}'}\n",
    "    ]\n",
    "    \n",
    "    response = client.chat.completions.create(\n",
    "    model=GPT_model\n",
    "    messages=messages\n",
    "    temperature=0\n",
    "    )\n",
    "    \n",
    "    # this parses the text for the summary\n",
    "    response_message_summary = response.choices[0].message.content\n",
    "    \n",
    "    # this now puts it into a pandas dataframe to end the function\n",
    "    company_df = pd.DataFrame({\n",
    "        'Company Name': [company_name],\n",
    "        'Summary': [response_message_summary],\n",
    "        'SWOT': [response_message_swot]\n",
    "    })\n",
    "    return company_df\n",
    "    "
   ]
  }
 ],
 "metadata": {
  "kernelspec": {
   "display_name": "Python 3",
   "language": "python",
   "name": "python3"
  },
  "language_info": {
   "codemirror_mode": {
    "name": "ipython",
    "version": 3
   },
   "file_extension": ".py",
   "mimetype": "text/x-python",
   "name": "python",
   "nbconvert_exporter": "python",
   "pygments_lexer": "ipython3",
   "version": "3.7.4"
  }
 },
 "nbformat": 4,
 "nbformat_minor": 4
}
